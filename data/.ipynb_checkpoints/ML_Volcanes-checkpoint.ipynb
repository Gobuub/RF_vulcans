{
 "cells": [
  {
   "cell_type": "markdown",
   "id": "67dde61f-db3b-47b0-9c19-a91e7910b0ac",
   "metadata": {},
   "source": [
    "## Modelo predictivo de erupciones volcánicas"
   ]
  },
  {
   "cell_type": "markdown",
   "id": "92c5cecd-9478-40ad-8b52-82a966ea9a3a",
   "metadata": {},
   "source": [
    "Objetivo.\n",
    "\n",
    "El objetivo del reto será realizar un modelo predictivo basado en Random Forests que permita conocer el tipo de erupción que tendrá un volcán en función de las vibraciones medidas por los sensores.\n",
    "\n",
    "Una vez se haya hecho y entrenado el modelo predictivo, este se tendrá que emplear con los features del dataset de testing 'jm_test_X.csv'. Estas predicciones se tendrán que entregar en formato csv como en el ejemplo. Donde tendrá que aparecer tan solo una columna en la que en la primera fila sea un texto cualquiera y las predicciones empiecen en la fila 2.\n",
    "\n",
    "La calidad de la predicción se medirá a partir del f1-score (macro)."
   ]
  },
  {
   "cell_type": "code",
   "execution_count": null,
   "id": "1faa8a8a-7a6a-413e-84c2-f5a22faee0e0",
   "metadata": {},
   "outputs": [],
   "source": []
  }
 ],
 "metadata": {
  "kernelspec": {
   "display_name": "Python 3 (ipykernel)",
   "language": "python",
   "name": "python3"
  },
  "language_info": {
   "codemirror_mode": {
    "name": "ipython",
    "version": 3
   },
   "file_extension": ".py",
   "mimetype": "text/x-python",
   "name": "python",
   "nbconvert_exporter": "python",
   "pygments_lexer": "ipython3",
   "version": "3.8.11"
  }
 },
 "nbformat": 4,
 "nbformat_minor": 5
}
