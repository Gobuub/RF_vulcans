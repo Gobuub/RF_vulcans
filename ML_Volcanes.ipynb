{
 "cells": [
  {
   "cell_type": "markdown",
   "id": "67dde61f-db3b-47b0-9c19-a91e7910b0ac",
   "metadata": {},
   "source": [
    "## Modelo predictivo de erupciones volcánicas"
   ]
  },
  {
   "cell_type": "markdown",
   "id": "92c5cecd-9478-40ad-8b52-82a966ea9a3a",
   "metadata": {},
   "source": [
    "Objetivo.\n",
    "\n",
    "El objetivo del reto será realizar un modelo predictivo basado en Random Forests que permita conocer el tipo de erupción que tendrá un volcán en función de las vibraciones medidas por los sensores.\n",
    "\n",
    "Una vez se haya hecho y entrenado el modelo predictivo, este se tendrá que emplear con los features del dataset de testing 'jm_test_X.csv'. Estas predicciones se tendrán que entregar en formato csv como en el ejemplo. Donde tendrá que aparecer tan solo una columna en la que en la primera fila sea un texto cualquiera y las predicciones empiecen en la fila 2.\n",
    "\n",
    "La calidad de la predicción se medirá a partir del f1-score (macro)."
   ]
  },
  {
   "cell_type": "code",
   "execution_count": 2,
   "id": "1faa8a8a-7a6a-413e-84c2-f5a22faee0e0",
   "metadata": {},
   "outputs": [
    {
     "data": {
      "text/html": [
       "<div>\n",
       "<style scoped>\n",
       "    .dataframe tbody tr th:only-of-type {\n",
       "        vertical-align: middle;\n",
       "    }\n",
       "\n",
       "    .dataframe tbody tr th {\n",
       "        vertical-align: top;\n",
       "    }\n",
       "\n",
       "    .dataframe thead th {\n",
       "        text-align: right;\n",
       "    }\n",
       "</style>\n",
       "<table border=\"1\" class=\"dataframe\">\n",
       "  <thead>\n",
       "    <tr style=\"text-align: right;\">\n",
       "      <th></th>\n",
       "      <th>feature1</th>\n",
       "      <th>feature2</th>\n",
       "      <th>feature3</th>\n",
       "      <th>feature4</th>\n",
       "      <th>feature5</th>\n",
       "      <th>feature6</th>\n",
       "      <th>target</th>\n",
       "    </tr>\n",
       "  </thead>\n",
       "  <tbody>\n",
       "    <tr>\n",
       "      <th>0</th>\n",
       "      <td>0.474335</td>\n",
       "      <td>0.881640</td>\n",
       "      <td>-2.050543</td>\n",
       "      <td>-1.251935</td>\n",
       "      <td>-1.035151</td>\n",
       "      <td>-1.934367</td>\n",
       "      <td>4</td>\n",
       "    </tr>\n",
       "    <tr>\n",
       "      <th>1</th>\n",
       "      <td>-1.034675</td>\n",
       "      <td>1.741801</td>\n",
       "      <td>-1.660629</td>\n",
       "      <td>-1.555989</td>\n",
       "      <td>-0.337553</td>\n",
       "      <td>-2.473838</td>\n",
       "      <td>0</td>\n",
       "    </tr>\n",
       "    <tr>\n",
       "      <th>2</th>\n",
       "      <td>-0.563221</td>\n",
       "      <td>-0.688381</td>\n",
       "      <td>-0.318415</td>\n",
       "      <td>-1.845172</td>\n",
       "      <td>0.352366</td>\n",
       "      <td>-0.912928</td>\n",
       "      <td>1</td>\n",
       "    </tr>\n",
       "    <tr>\n",
       "      <th>3</th>\n",
       "      <td>-1.268179</td>\n",
       "      <td>2.770688</td>\n",
       "      <td>1.054193</td>\n",
       "      <td>2.830389</td>\n",
       "      <td>0.395093</td>\n",
       "      <td>0.677715</td>\n",
       "      <td>3</td>\n",
       "    </tr>\n",
       "    <tr>\n",
       "      <th>4</th>\n",
       "      <td>-1.216380</td>\n",
       "      <td>-0.391267</td>\n",
       "      <td>-2.898931</td>\n",
       "      <td>-0.913074</td>\n",
       "      <td>-2.171857</td>\n",
       "      <td>-2.367490</td>\n",
       "      <td>0</td>\n",
       "    </tr>\n",
       "  </tbody>\n",
       "</table>\n",
       "</div>"
      ],
      "text/plain": [
       "   feature1  feature2  feature3  feature4  feature5  feature6  target\n",
       "0  0.474335  0.881640 -2.050543 -1.251935 -1.035151 -1.934367       4\n",
       "1 -1.034675  1.741801 -1.660629 -1.555989 -0.337553 -2.473838       0\n",
       "2 -0.563221 -0.688381 -0.318415 -1.845172  0.352366 -0.912928       1\n",
       "3 -1.268179  2.770688  1.054193  2.830389  0.395093  0.677715       3\n",
       "4 -1.216380 -0.391267 -2.898931 -0.913074 -2.171857 -2.367490       0"
      ]
     },
     "execution_count": 2,
     "metadata": {},
     "output_type": "execute_result"
    }
   ],
   "source": [
    "import pandas as pd\n",
    "data_train = pd.read_csv('data/jm_train.csv', sep=',')\n",
    "data_train.head()"
   ]
  },
  {
   "cell_type": "code",
   "execution_count": 58,
   "id": "fcefa619-1086-4f41-af3c-251e51c300ba",
   "metadata": {},
   "outputs": [
    {
     "name": "stdout",
     "output_type": "stream",
     "text": [
      "<class 'pandas.core.frame.DataFrame'>\n",
      "RangeIndex: 900 entries, 0 to 899\n",
      "Data columns (total 6 columns):\n",
      " #   Column    Non-Null Count  Dtype  \n",
      "---  ------    --------------  -----  \n",
      " 0   feature1  900 non-null    float64\n",
      " 1   feature2  900 non-null    float64\n",
      " 2   feature3  900 non-null    float64\n",
      " 3   feature4  900 non-null    float64\n",
      " 4   feature5  900 non-null    float64\n",
      " 5   feature6  900 non-null    float64\n",
      "dtypes: float64(6)\n",
      "memory usage: 42.3 KB\n"
     ]
    }
   ],
   "source": [
    "data_test = pd.read_csv('data/jm_X_test.csv', sep=',')\n",
    "data_test.info()"
   ]
  },
  {
   "cell_type": "code",
   "execution_count": 10,
   "id": "6ed82309-51f9-4b72-a53e-a832997ebe07",
   "metadata": {},
   "outputs": [
    {
     "name": "stdout",
     "output_type": "stream",
     "text": [
      "[[ 0.4743345   0.88164019 -2.05054338 ... -1.03515065 -1.93436702\n",
      "   4.        ]\n",
      " [-1.03467542  1.74180079 -1.66062856 ... -0.33755256 -2.47383757\n",
      "   0.        ]\n",
      " [-0.56322117 -0.68838088 -0.3184154  ...  0.35236635 -0.9129284\n",
      "   1.        ]\n",
      " ...\n",
      " [-0.84759322  1.53857397  0.96240936 ...  0.3799345   0.73790732\n",
      "   3.        ]\n",
      " [ 1.47243722  1.18769511  1.01576636 ...  1.58672237  0.18256889\n",
      "   4.        ]\n",
      " [-0.08348882 -1.19478424 -0.38920423 ...  0.38241318 -0.90023708\n",
      "   3.        ]]\n"
     ]
    },
    {
     "data": {
      "text/plain": [
       "0       4\n",
       "1       0\n",
       "2       1\n",
       "3       3\n",
       "4       0\n",
       "       ..\n",
       "2095    0\n",
       "2096    1\n",
       "2097    3\n",
       "2098    4\n",
       "2099    3\n",
       "Name: target, Length: 2100, dtype: int64"
      ]
     },
     "execution_count": 10,
     "metadata": {},
     "output_type": "execute_result"
    }
   ],
   "source": [
    "#Valores\n",
    "\n",
    "X = data_train.values\n",
    "print(X)\n",
    "target = data_train['target']\n",
    "target"
   ]
  },
  {
   "cell_type": "code",
   "execution_count": 11,
   "id": "7f2168ae-082f-4f0a-b6e8-23484f493c18",
   "metadata": {},
   "outputs": [
    {
     "name": "stdout",
     "output_type": "stream",
     "text": [
      "[4 0 1 ... 3 4 3]\n"
     ]
    }
   ],
   "source": [
    "Y = target.values\n",
    "print(Y)"
   ]
  },
  {
   "cell_type": "code",
   "execution_count": 12,
   "id": "f7d63564-fee3-4340-9e7f-f0c9d23163fa",
   "metadata": {},
   "outputs": [
    {
     "name": "stdout",
     "output_type": "stream",
     "text": [
      "Número de erupciones en el modelo: \n",
      "plinianas = 427\n",
      "peleanas = 423\n",
      "vulcanianas = 419\n",
      "hawaianas = 426\n",
      "estromboilianas = 405\n"
     ]
    }
   ],
   "source": [
    "pliniana = 0\n",
    "peleana = 0\n",
    "vulcaniana = 0\n",
    "hawaiana = 0\n",
    "estromboliana = 0\n",
    "\n",
    "for value in Y:\n",
    "    if value == 0:\n",
    "        pliniana += 1\n",
    "    elif value == 1:\n",
    "        peleana += 1\n",
    "    elif value == 2:\n",
    "        vulcaniana += 1\n",
    "    elif value == 3:\n",
    "        hawaiana += 1\n",
    "    elif value == 4:\n",
    "        estromboliana += 1\n",
    "    else:\n",
    "        print('sin valor')\n",
    "\n",
    "print(\"Número de erupciones en el modelo: \")\n",
    "print(f\"plinianas = {pliniana}\")\n",
    "print(f\"peleanas = {peleana}\")\n",
    "print(f\"vulcanianas = {vulcaniana}\")\n",
    "print(f\"hawaianas = {hawaiana}\")\n",
    "print(f\"estromboilianas = {estromboliana}\")\n",
    "        "
   ]
  },
  {
   "cell_type": "code",
   "execution_count": 14,
   "id": "ded920d6-505c-4b84-bfb0-a1d2c01df311",
   "metadata": {},
   "outputs": [
    {
     "name": "stdout",
     "output_type": "stream",
     "text": [
      "Collecting imblearn\n",
      "  Downloading imblearn-0.0-py2.py3-none-any.whl (1.9 kB)\n",
      "Collecting imbalanced-learn\n",
      "  Downloading imbalanced_learn-0.8.1-py3-none-any.whl (189 kB)\n",
      "\u001b[K     |████████████████████████████████| 189 kB 11.0 MB/s eta 0:00:01\n",
      "\u001b[?25hRequirement already satisfied: joblib>=0.11 in /Users/Kike/opt/anaconda3/envs/Entorno_Virtual_BT_Data_Science/lib/python3.8/site-packages (from imbalanced-learn->imblearn) (1.0.1)\n",
      "Requirement already satisfied: numpy>=1.13.3 in /Users/Kike/opt/anaconda3/envs/Entorno_Virtual_BT_Data_Science/lib/python3.8/site-packages (from imbalanced-learn->imblearn) (1.19.2)\n",
      "Requirement already satisfied: scipy>=0.19.1 in /Users/Kike/opt/anaconda3/envs/Entorno_Virtual_BT_Data_Science/lib/python3.8/site-packages (from imbalanced-learn->imblearn) (1.6.2)\n",
      "Collecting scikit-learn>=0.24\n",
      "  Downloading scikit_learn-1.0.1-cp38-cp38-macosx_10_13_x86_64.whl (7.9 MB)\n",
      "\u001b[K     |████████████████████████████████| 7.9 MB 28.6 MB/s eta 0:00:01\n",
      "\u001b[?25hCollecting threadpoolctl>=2.0.0\n",
      "  Downloading threadpoolctl-3.0.0-py3-none-any.whl (14 kB)\n",
      "Installing collected packages: threadpoolctl, scikit-learn, imbalanced-learn, imblearn\n",
      "  Attempting uninstall: scikit-learn\n",
      "    Found existing installation: scikit-learn 0.22.1\n",
      "    Uninstalling scikit-learn-0.22.1:\n",
      "      Successfully uninstalled scikit-learn-0.22.1\n",
      "Successfully installed imbalanced-learn-0.8.1 imblearn-0.0 scikit-learn-1.0.1 threadpoolctl-3.0.0\n"
     ]
    }
   ],
   "source": [
    "!pip install imblearn"
   ]
  },
  {
   "cell_type": "code",
   "execution_count": 16,
   "id": "ed5743d5-8f9c-4df8-8d6a-9841bdecaf6c",
   "metadata": {},
   "outputs": [],
   "source": [
    "from imblearn.over_sampling import RandomOverSampler, SMOTE\n",
    "ros = RandomOverSampler()\n",
    "smote = SMOTE()"
   ]
  },
  {
   "cell_type": "markdown",
   "id": "dfa19600-9c42-4bd4-aeb1-6f546b105bbd",
   "metadata": {},
   "source": [
    "### Sobremuestreo con RandomOverSampler"
   ]
  },
  {
   "cell_type": "code",
   "execution_count": 17,
   "id": "8ba4f707-c75e-4db9-a831-476e1e56582b",
   "metadata": {},
   "outputs": [],
   "source": [
    "dataRos, targetRos = ros.fit_resample(data_train, target)"
   ]
  },
  {
   "cell_type": "code",
   "execution_count": 18,
   "id": "8ae2f524-9821-4ed7-b02d-c20f5b689ce9",
   "metadata": {},
   "outputs": [
    {
     "data": {
      "text/plain": [
       "0       4\n",
       "1       0\n",
       "2       1\n",
       "3       3\n",
       "4       0\n",
       "       ..\n",
       "2130    4\n",
       "2131    4\n",
       "2132    4\n",
       "2133    4\n",
       "2134    4\n",
       "Name: target, Length: 2135, dtype: int64"
      ]
     },
     "execution_count": 18,
     "metadata": {},
     "output_type": "execute_result"
    }
   ],
   "source": [
    "targetRos"
   ]
  },
  {
   "cell_type": "code",
   "execution_count": 19,
   "id": "53017474-5761-4f44-8db5-ac114653e3b5",
   "metadata": {
    "tags": []
   },
   "outputs": [
    {
     "name": "stdout",
     "output_type": "stream",
     "text": [
      "Número de erupciones en el modelo: \n",
      "plinianas = 427\n",
      "peleanas = 427\n",
      "vulcanianas = 427\n",
      "hawaianas = 427\n",
      "estromboilianas = 427\n"
     ]
    }
   ],
   "source": [
    "pliniana = 0\n",
    "peleana = 0\n",
    "vulcaniana = 0\n",
    "hawaiana = 0\n",
    "estromboliana = 0\n",
    "\n",
    "YRos = targetRos.values\n",
    "\n",
    "for value in YRos:\n",
    "    if value == 0:\n",
    "        pliniana += 1\n",
    "    elif value == 1:\n",
    "        peleana += 1\n",
    "    elif value == 2:\n",
    "        vulcaniana += 1\n",
    "    elif value == 3:\n",
    "        hawaiana += 1\n",
    "    elif value == 4:\n",
    "        estromboliana += 1\n",
    "    else:\n",
    "        print('sin valor')\n",
    "\n",
    "print(\"Número de erupciones en el modelo: \")\n",
    "print(f\"plinianas = {pliniana}\")\n",
    "print(f\"peleanas = {peleana}\")\n",
    "print(f\"vulcanianas = {vulcaniana}\")\n",
    "print(f\"hawaianas = {hawaiana}\")\n",
    "print(f\"estromboilianas = {estromboliana}\")"
   ]
  },
  {
   "cell_type": "markdown",
   "id": "fbfbfe7b-91a3-4050-a2bb-98d04ce7f89f",
   "metadata": {},
   "source": [
    "### Sobremuestreo con SMote"
   ]
  },
  {
   "cell_type": "code",
   "execution_count": 22,
   "id": "21b73576-c023-4a84-88d2-7582908fdb25",
   "metadata": {},
   "outputs": [
    {
     "name": "stdout",
     "output_type": "stream",
     "text": [
      "Número de erupciones en el modelo: \n",
      "plinianas_smote = 427\n",
      "peleanas_smote = 427\n",
      "vulcanianas_smote = 427\n",
      "hawaianas_smote = 427\n",
      "estromboilianas_smote = 427\n"
     ]
    }
   ],
   "source": [
    "dataSmote, targetSmote = smote.fit_resample(data_train, target)\n",
    "pliniana_smote = 0\n",
    "peleana_smote = 0\n",
    "vulcaniana_smote = 0\n",
    "hawaiana_smote = 0\n",
    "estromboliana_smote = 0\n",
    "\n",
    "YSmote = targetSmote.values\n",
    "\n",
    "for value in YSmote:\n",
    "    if value == 0:\n",
    "        pliniana_smote += 1\n",
    "    elif value == 1:\n",
    "        peleana_smote += 1\n",
    "    elif value == 2:\n",
    "        vulcaniana_smote += 1\n",
    "    elif value == 3:\n",
    "        hawaiana_smote += 1\n",
    "    elif value == 4:\n",
    "        estromboliana_smote += 1\n",
    "    else:\n",
    "        print('sin valor')\n",
    "\n",
    "print(\"Número de erupciones en el modelo: \")\n",
    "print(f\"plinianas_smote = {pliniana_smote}\")\n",
    "print(f\"peleanas_smote = {peleana_smote}\")\n",
    "print(f\"vulcanianas_smote = {vulcaniana_smote}\")\n",
    "print(f\"hawaianas_smote = {hawaiana_smote}\")\n",
    "print(f\"estromboilianas_smote = {estromboliana_smote}\")"
   ]
  },
  {
   "cell_type": "markdown",
   "id": "fca18a47-d69c-4237-a29c-804e478c266a",
   "metadata": {},
   "source": [
    "## Submuestreo"
   ]
  },
  {
   "cell_type": "code",
   "execution_count": 29,
   "id": "81a796e1-f2af-49ce-9556-4d37cb0f10d5",
   "metadata": {},
   "outputs": [],
   "source": [
    "from imblearn.under_sampling import RandomUnderSampler, NearMiss\n",
    "\n",
    "# Iniciar métodos de submuestreo\n",
    "rus = RandomUnderSampler() # random_state = 0\n",
    "\n",
    "nm = NearMiss() "
   ]
  },
  {
   "cell_type": "markdown",
   "id": "9eabe645-f85a-4d9e-9b21-149a01998394",
   "metadata": {},
   "source": [
    "### Rus"
   ]
  },
  {
   "cell_type": "code",
   "execution_count": 26,
   "id": "e851fd40-fa7f-460f-b882-c28dbad325fa",
   "metadata": {},
   "outputs": [
    {
     "name": "stdout",
     "output_type": "stream",
     "text": [
      "Número de erupciones en el modelo: \n",
      "plinianas_rus = 405\n",
      "peleanas_rus = 405\n",
      "vulcanianas_rus = 405\n",
      "hawaianas_rus = 405\n",
      "estromboilianas_rus = 405\n"
     ]
    }
   ],
   "source": [
    "# Elimina muestras de las clases más representadas\n",
    "\n",
    "dataRus, targetRus = rus.fit_resample(data_train, target)\n",
    "\n",
    "pliniana_rus = 0\n",
    "peleana_rus = 0\n",
    "vulcaniana_rus = 0\n",
    "hawaiana_rus = 0\n",
    "estromboliana_rus = 0\n",
    "\n",
    "YRus = targetRus.values\n",
    "\n",
    "for value in YRus:\n",
    "    if value == 0:\n",
    "        pliniana_rus += 1\n",
    "    elif value == 1:\n",
    "        peleana_rus += 1\n",
    "    elif value == 2:\n",
    "        vulcaniana_rus += 1\n",
    "    elif value == 3:\n",
    "        hawaiana_rus += 1\n",
    "    elif value == 4:\n",
    "        estromboliana_rus += 1\n",
    "    else:\n",
    "        print('sin valor')\n",
    "\n",
    "print(\"Número de erupciones en el modelo: \")\n",
    "print(f\"plinianas_rus = {pliniana_rus}\")\n",
    "print(f\"peleanas_rus = {peleana_rus}\")\n",
    "print(f\"vulcanianas_rus = {vulcaniana_rus}\")\n",
    "print(f\"hawaianas_rus = {hawaiana_rus}\")\n",
    "print(f\"estromboilianas_rus = {estromboliana_rus}\")"
   ]
  },
  {
   "cell_type": "markdown",
   "id": "84095024-095e-4ea8-9767-f48a50fca903",
   "metadata": {},
   "source": [
    "### Nearmiss"
   ]
  },
  {
   "cell_type": "code",
   "execution_count": 30,
   "id": "647ec0d2-c968-4403-b68c-5cd33dba2be6",
   "metadata": {},
   "outputs": [
    {
     "name": "stdout",
     "output_type": "stream",
     "text": [
      "Número de erupciones en el modelo: \n",
      "plinianas_nm = 405\n",
      "peleanas_nm = 405\n",
      "vulcanianas_nm = 405\n",
      "hawaianas_nm = 405\n",
      "estromboilianas_nm = 405\n"
     ]
    }
   ],
   "source": [
    "#Elimina los datos más próximos para tener valores más 'extremos'\n",
    "\n",
    "dataNm, targetNm = nm.fit_resample(data_train,target)\n",
    "\n",
    "pliniana_nm = 0\n",
    "peleana_nm = 0\n",
    "vulcaniana_nm = 0\n",
    "hawaiana_nm = 0\n",
    "estromboliana_nm = 0\n",
    "\n",
    "YNm = targetNm.values\n",
    "\n",
    "for value in YNm:\n",
    "    if value == 0:\n",
    "        pliniana_nm += 1\n",
    "    elif value == 1:\n",
    "        peleana_nm += 1\n",
    "    elif value == 2:\n",
    "        vulcaniana_nm += 1\n",
    "    elif value == 3:\n",
    "        hawaiana_nm += 1\n",
    "    elif value == 4:\n",
    "        estromboliana_nm += 1\n",
    "    else:\n",
    "        print('sin valor')\n",
    "\n",
    "print(\"Número de erupciones en el modelo: \")\n",
    "print(f\"plinianas_nm = {pliniana_nm}\")\n",
    "print(f\"peleanas_nm = {peleana_nm}\")\n",
    "print(f\"vulcanianas_nm = {vulcaniana_nm}\")\n",
    "print(f\"hawaianas_nm = {hawaiana_nm}\")\n",
    "print(f\"estromboilianas_nm = {estromboliana_nm}\")"
   ]
  },
  {
   "cell_type": "markdown",
   "id": "ba686a3b-2d03-4d63-b278-e168c3fa6ca7",
   "metadata": {},
   "source": [
    "### Sobremuestreo + Submuestreo"
   ]
  },
  {
   "cell_type": "code",
   "execution_count": 36,
   "id": "a0f5296e-c337-4b7b-99a0-8bfc0fa4cc20",
   "metadata": {},
   "outputs": [],
   "source": [
    "from imblearn.combine import SMOTETomek\n",
    "#Inicia el método combinado\n",
    "smoteT = SMOTETomek() # random state = 0"
   ]
  },
  {
   "cell_type": "code",
   "execution_count": 38,
   "id": "0a45179a-ae81-4a91-87d3-7a1b645c96a0",
   "metadata": {},
   "outputs": [
    {
     "name": "stdout",
     "output_type": "stream",
     "text": [
      "Número de erupciones en el modelo: \n",
      "plinianas_SmoteT = 427\n",
      "peleanas_SmoteT = 426\n",
      "vulcanianas_SmoteT = 426\n",
      "hawaianas_SmoteT = 427\n",
      "estromboilianas_SmoteT = 427\n"
     ]
    }
   ],
   "source": [
    "dataSmoteT, targetsmoteT = smoteT.fit_resample(data_train, target)\n",
    "\n",
    "pliniana_SmoteT = 0\n",
    "peleana_SmoteT = 0\n",
    "vulcaniana_SmoteT = 0\n",
    "hawaiana_SmoteT = 0\n",
    "estromboliana_SmoteT = 0\n",
    "\n",
    "YSmoteT = targetsmoteT.values\n",
    "\n",
    "for value in YSmoteT:\n",
    "    if value == 0:\n",
    "        pliniana_SmoteT += 1\n",
    "    elif value == 1:\n",
    "        peleana_SmoteT += 1\n",
    "    elif value == 2:\n",
    "        vulcaniana_SmoteT += 1\n",
    "    elif value == 3:\n",
    "        hawaiana_SmoteT += 1\n",
    "    elif value == 4:\n",
    "        estromboliana_SmoteT += 1\n",
    "    else:\n",
    "        print('sin valor')\n",
    "\n",
    "print(\"Número de erupciones en el modelo: \")\n",
    "print(f\"plinianas_SmoteT = {pliniana_SmoteT}\")\n",
    "print(f\"peleanas_SmoteT = {peleana_SmoteT}\")\n",
    "print(f\"vulcanianas_SmoteT = {vulcaniana_SmoteT}\")\n",
    "print(f\"hawaianas_SmoteT = {hawaiana_SmoteT}\")\n",
    "print(f\"estromboilianas_SmoteT = {estromboliana_SmoteT}\")"
   ]
  },
  {
   "cell_type": "markdown",
   "id": "b3fb6862-6471-41c5-9d78-6e5858bd1ca8",
   "metadata": {
    "tags": []
   },
   "source": [
    "## Random Forest usando datos de smote"
   ]
  },
  {
   "cell_type": "code",
   "execution_count": 41,
   "id": "375f344b-db62-4ede-917e-6e5591c6a6fe",
   "metadata": {},
   "outputs": [
    {
     "name": "stdout",
     "output_type": "stream",
     "text": [
      "Collecting seaborn\n",
      "  Downloading seaborn-0.11.2-py3-none-any.whl (292 kB)\n",
      "\u001b[K     |████████████████████████████████| 292 kB 8.7 MB/s eta 0:00:01\n",
      "\u001b[?25hRequirement already satisfied: numpy>=1.15 in /Users/Kike/opt/anaconda3/envs/Entorno_Virtual_BT_Data_Science/lib/python3.8/site-packages (from seaborn) (1.19.2)\n",
      "Requirement already satisfied: pandas>=0.23 in /Users/Kike/opt/anaconda3/envs/Entorno_Virtual_BT_Data_Science/lib/python3.8/site-packages (from seaborn) (1.0.5)\n",
      "Requirement already satisfied: scipy>=1.0 in /Users/Kike/opt/anaconda3/envs/Entorno_Virtual_BT_Data_Science/lib/python3.8/site-packages (from seaborn) (1.6.2)\n",
      "Collecting matplotlib>=2.2\n",
      "  Downloading matplotlib-3.5.0-cp38-cp38-macosx_10_9_x86_64.whl (7.3 MB)\n",
      "\u001b[K     |████████████████████████████████| 7.3 MB 55.9 MB/s eta 0:00:01\n",
      "\u001b[?25hRequirement already satisfied: pytz>=2017.2 in /Users/Kike/opt/anaconda3/envs/Entorno_Virtual_BT_Data_Science/lib/python3.8/site-packages (from pandas>=0.23->seaborn) (2021.1)\n",
      "Requirement already satisfied: python-dateutil>=2.6.1 in /Users/Kike/opt/anaconda3/envs/Entorno_Virtual_BT_Data_Science/lib/python3.8/site-packages (from pandas>=0.23->seaborn) (2.8.2)\n",
      "Collecting setuptools-scm>=4\n",
      "  Downloading setuptools_scm-6.3.2-py3-none-any.whl (33 kB)\n",
      "Collecting cycler>=0.10\n",
      "  Downloading cycler-0.11.0-py3-none-any.whl (6.4 kB)\n",
      "Collecting kiwisolver>=1.0.1\n",
      "  Downloading kiwisolver-1.3.2-cp38-cp38-macosx_10_9_x86_64.whl (61 kB)\n",
      "\u001b[K     |████████████████████████████████| 61 kB 964 kB/s  eta 0:00:01\n",
      "\u001b[?25hCollecting fonttools>=4.22.0\n",
      "  Downloading fonttools-4.28.1-py3-none-any.whl (873 kB)\n",
      "\u001b[K     |████████████████████████████████| 873 kB 79.8 MB/s eta 0:00:01\n",
      "\u001b[?25hCollecting pillow>=6.2.0\n",
      "  Downloading Pillow-8.4.0-cp38-cp38-macosx_10_10_x86_64.whl (3.0 MB)\n",
      "\u001b[K     |████████████████████████████████| 3.0 MB 67.0 MB/s eta 0:00:01\n",
      "\u001b[?25hRequirement already satisfied: packaging>=20.0 in /Users/Kike/opt/anaconda3/envs/Entorno_Virtual_BT_Data_Science/lib/python3.8/site-packages (from matplotlib>=2.2->seaborn) (21.0)\n",
      "Requirement already satisfied: pyparsing>=2.2.1 in /Users/Kike/opt/anaconda3/envs/Entorno_Virtual_BT_Data_Science/lib/python3.8/site-packages (from matplotlib>=2.2->seaborn) (2.4.7)\n",
      "Requirement already satisfied: six>=1.5 in /Users/Kike/opt/anaconda3/envs/Entorno_Virtual_BT_Data_Science/lib/python3.8/site-packages (from python-dateutil>=2.6.1->pandas>=0.23->seaborn) (1.16.0)\n",
      "Collecting tomli>=1.0.0\n",
      "  Downloading tomli-1.2.2-py3-none-any.whl (12 kB)\n",
      "Requirement already satisfied: setuptools in /Users/Kike/opt/anaconda3/envs/Entorno_Virtual_BT_Data_Science/lib/python3.8/site-packages (from setuptools-scm>=4->matplotlib>=2.2->seaborn) (58.0.4)\n",
      "Installing collected packages: tomli, setuptools-scm, cycler, kiwisolver, fonttools, pillow, matplotlib, seaborn\n",
      "Successfully installed cycler-0.11.0 fonttools-4.28.1 kiwisolver-1.3.2 matplotlib-3.5.0 pillow-8.4.0 seaborn-0.11.2 setuptools-scm-6.3.2 tomli-1.2.2\n"
     ]
    }
   ],
   "source": [
    "!pip install seaborn"
   ]
  },
  {
   "cell_type": "code",
   "execution_count": 63,
   "id": "bfe04f77-766e-494c-844d-132c850c4118",
   "metadata": {
    "tags": []
   },
   "outputs": [
    {
     "data": {
      "image/png": "[encoded data removed]",
      "text/plain": [
       "<Figure size 432x288 with 2 Axes>"
      ]
     },
     "metadata": {},
     "output_type": "display_data"
    }
   ],
   "source": [
    "from sklearn.ensemble import RandomForestClassifier\n",
    "import matplotlib.pyplot as plt\n",
    "import seaborn as sn\n",
    "from sklearn.metrics import confusion_matrix\n",
    " \n",
    "# Iniciar modelo\n",
    "\n",
    "modelRF = RandomForestClassifier()\n",
    "\n",
    "# Division de datos en conjunto de evaluación y entrenamiento\n",
    "from sklearn.model_selection import train_test_split\n",
    "\n",
    "dataTrain, data_test1, targetTrain, targetTest = train_test_split(data, target, random_state = 0)\n",
    "\n",
    "# Entrenamiento\n",
    "\n",
    "modelRF.fit(dataTrain, targetTrain)\n",
    "\n",
    "# Predicción de modelo\n",
    "\n",
    "targetPred = modelRF.predict(test)\n",
    "\n",
    "# Resultados\n",
    "\n",
    "array = confusion_matrix(targetPred, targetTest)\n",
    "\n",
    "df_res = pd.DataFrame(array)\n",
    "\n",
    "# Representación de la matriz\n",
    "\n",
    "sn.set(font_scale =1)\n",
    "plt.show(sn.heatmap(df_res, annot = True, annot_kws={'size':16}, cmap = 'Reds'))\n",
    "\n",
    "\n",
    "\n",
    "\n"
   ]
  },
  {
   "cell_type": "code",
   "execution_count": 64,
   "id": "014b3d18-dbcb-4e6d-84ba-7efc21c7358d",
   "metadata": {},
   "outputs": [
    {
     "data": {
      "text/plain": [
       "array([0, 2, 2, 3, 1, 3, 2, 2, 0, 3, 0, 2, 1, 4, 2, 2, 1, 3, 0, 0, 2, 4,\n",
       "       0, 0, 2, 4, 2, 4, 3, 1, 1, 2, 1, 0, 4, 4, 4, 1, 3, 4, 3, 3, 3, 3,\n",
       "       2, 2, 4, 3, 4, 1, 3, 1, 2, 3, 2, 2, 1, 0, 2, 3, 2, 3, 0, 4, 4, 1,\n",
       "       2, 0, 1, 4, 1, 3, 2, 0, 1, 1, 2, 4, 4, 1, 0, 4, 3, 4, 0, 3, 0, 3,\n",
       "       1, 1, 1, 3, 3, 0, 3, 2, 1, 4, 4, 3, 4, 2, 1, 0, 2, 2, 2, 0, 0, 4,\n",
       "       0, 1, 0, 0, 0, 3, 4, 4, 3, 0, 0, 1, 1, 1, 3, 1, 3, 1, 0, 1, 3, 0,\n",
       "       3, 4, 1, 4, 1, 0, 3, 0, 3, 1, 2, 3, 0, 3, 4, 1, 0, 3, 0, 0, 4, 4,\n",
       "       2, 3, 3, 1, 3, 1, 0, 1, 1, 3, 1, 3, 0, 4, 2, 4, 0, 0, 3, 2, 0, 3,\n",
       "       3, 3, 2, 1, 3, 1, 1, 1, 4, 0, 2, 0, 0, 1, 1, 1, 1, 1, 4, 2, 4, 2,\n",
       "       2, 1, 4, 2, 4, 2, 4, 1, 4, 1, 1, 0, 3, 2, 0, 2, 1, 3, 2, 2, 3, 1,\n",
       "       2, 4, 2, 4, 1, 1, 3, 4, 0, 2, 0, 3, 2, 4, 1, 2, 4, 4, 2, 3, 2, 3,\n",
       "       2, 2, 3, 3, 3, 4, 3, 1, 2, 3, 1, 3, 3, 0, 2, 3, 2, 2, 3, 4, 4, 3,\n",
       "       1, 3, 1, 2, 4, 4, 3, 0, 3, 4, 1, 4, 2, 3, 4, 0, 2, 1, 2, 2, 3, 0,\n",
       "       3, 0, 3, 1, 0, 4, 2, 1, 1, 0, 4, 2, 1, 2, 1, 4, 4, 4, 1, 3, 0, 4,\n",
       "       2, 2, 4, 2, 3, 0, 3, 2, 1, 1, 0, 0, 0, 3, 2, 3, 1, 0, 2, 4, 4, 1,\n",
       "       1, 1, 1, 3, 3, 1, 2, 1, 4, 0, 0, 0, 3, 0, 4, 3, 0, 2, 3, 3, 1, 1,\n",
       "       2, 4, 2, 2, 3, 3, 2, 0, 4, 4, 1, 2, 3, 1, 2, 3, 1, 4, 4, 3, 2, 3,\n",
       "       2, 0, 2, 1, 2, 4, 2, 0, 1, 1, 0, 4, 4, 2, 4, 1, 4, 0, 1, 3, 2, 0,\n",
       "       4, 2, 1, 3, 4, 2, 1, 3, 4, 4, 1, 1, 2, 2, 4, 3, 0, 3, 0, 0, 1, 4,\n",
       "       0, 1, 0, 0, 2, 1, 4, 1, 2, 4, 2, 3, 3, 2, 1, 0, 0, 4, 3, 4, 2, 4,\n",
       "       1, 4, 2, 1, 3, 1, 2, 3, 3, 3, 0, 1, 3, 4, 3, 2, 2, 0, 4, 2, 0, 4,\n",
       "       2, 4, 2, 2, 1, 4, 0, 4, 4, 0, 4, 4, 2, 4, 0, 2, 4, 1, 4, 1, 0, 1,\n",
       "       1, 4, 3, 2, 4, 4, 4, 4, 2, 1, 3, 4, 2, 3, 4, 2, 2, 0, 0, 4, 2, 2,\n",
       "       4, 1, 2, 2, 0, 4, 3, 1, 3, 1, 1, 1, 0, 4, 4, 3, 1, 2, 4, 3, 3, 2,\n",
       "       3, 3, 2, 3, 1, 2])"
      ]
     },
     "execution_count": 64,
     "metadata": {},
     "output_type": "execute_result"
    }
   ],
   "source": [
    "targetPred"
   ]
  },
  {
   "cell_type": "code",
   "execution_count": 65,
   "id": "cd456641-1e55-4c16-be0a-9c73b1d1ad83",
   "metadata": {},
   "outputs": [],
   "source": [
    "df_train_res = pd.DataFrame(targetPred)\n",
    "df_train_res = df_train_res.rename(columns= {0 : 'Results'})"
   ]
  },
  {
   "cell_type": "code",
   "execution_count": 66,
   "id": "f2d0f7b8-d8ec-407c-b46d-b266a477a7d1",
   "metadata": {},
   "outputs": [
    {
     "data": {
      "text/html": [
       "<div>\n",
       "<style scoped>\n",
       "    .dataframe tbody tr th:only-of-type {\n",
       "        vertical-align: middle;\n",
       "    }\n",
       "\n",
       "    .dataframe tbody tr th {\n",
       "        vertical-align: top;\n",
       "    }\n",
       "\n",
       "    .dataframe thead th {\n",
       "        text-align: right;\n",
       "    }\n",
       "</style>\n",
       "<table border=\"1\" class=\"dataframe\">\n",
       "  <thead>\n",
       "    <tr style=\"text-align: right;\">\n",
       "      <th></th>\n",
       "      <th>Results</th>\n",
       "    </tr>\n",
       "  </thead>\n",
       "  <tbody>\n",
       "    <tr>\n",
       "      <th>0</th>\n",
       "      <td>0</td>\n",
       "    </tr>\n",
       "    <tr>\n",
       "      <th>1</th>\n",
       "      <td>2</td>\n",
       "    </tr>\n",
       "    <tr>\n",
       "      <th>2</th>\n",
       "      <td>2</td>\n",
       "    </tr>\n",
       "    <tr>\n",
       "      <th>3</th>\n",
       "      <td>3</td>\n",
       "    </tr>\n",
       "    <tr>\n",
       "      <th>4</th>\n",
       "      <td>1</td>\n",
       "    </tr>\n",
       "    <tr>\n",
       "      <th>...</th>\n",
       "      <td>...</td>\n",
       "    </tr>\n",
       "    <tr>\n",
       "      <th>529</th>\n",
       "      <td>3</td>\n",
       "    </tr>\n",
       "    <tr>\n",
       "      <th>530</th>\n",
       "      <td>2</td>\n",
       "    </tr>\n",
       "    <tr>\n",
       "      <th>531</th>\n",
       "      <td>3</td>\n",
       "    </tr>\n",
       "    <tr>\n",
       "      <th>532</th>\n",
       "      <td>1</td>\n",
       "    </tr>\n",
       "    <tr>\n",
       "      <th>533</th>\n",
       "      <td>2</td>\n",
       "    </tr>\n",
       "  </tbody>\n",
       "</table>\n",
       "<p>534 rows × 1 columns</p>\n",
       "</div>"
      ],
      "text/plain": [
       "     Results\n",
       "0          0\n",
       "1          2\n",
       "2          2\n",
       "3          3\n",
       "4          1\n",
       "..       ...\n",
       "529        3\n",
       "530        2\n",
       "531        3\n",
       "532        1\n",
       "533        2\n",
       "\n",
       "[534 rows x 1 columns]"
      ]
     },
     "execution_count": 66,
     "metadata": {},
     "output_type": "execute_result"
    }
   ],
   "source": [
    "df_train_res"
   ]
  },
  {
   "cell_type": "code",
   "execution_count": 67,
   "id": "4db1525a-582b-4171-86c4-34f3d73916b6",
   "metadata": {},
   "outputs": [],
   "source": [
    "df_train_res.to_csv('data/predict_results.csv', sep=',', index=False)"
   ]
  },
  {
   "cell_type": "code",
   "execution_count": 70,
   "id": "733f91ae-a4bd-4f1e-a937-d44f8bf5d49f",
   "metadata": {},
   "outputs": [
    {
     "data": {
      "text/html": [
       "<div>\n",
       "<style scoped>\n",
       "    .dataframe tbody tr th:only-of-type {\n",
       "        vertical-align: middle;\n",
       "    }\n",
       "\n",
       "    .dataframe tbody tr th {\n",
       "        vertical-align: top;\n",
       "    }\n",
       "\n",
       "    .dataframe thead th {\n",
       "        text-align: right;\n",
       "    }\n",
       "</style>\n",
       "<table border=\"1\" class=\"dataframe\">\n",
       "  <thead>\n",
       "    <tr style=\"text-align: right;\">\n",
       "      <th></th>\n",
       "      <th>feature1</th>\n",
       "      <th>feature2</th>\n",
       "      <th>feature3</th>\n",
       "      <th>feature4</th>\n",
       "      <th>feature5</th>\n",
       "      <th>feature6</th>\n",
       "      <th>target</th>\n",
       "    </tr>\n",
       "  </thead>\n",
       "  <tbody>\n",
       "    <tr>\n",
       "      <th>1759</th>\n",
       "      <td>-1.056559</td>\n",
       "      <td>-0.818858</td>\n",
       "      <td>0.027747</td>\n",
       "      <td>-1.213826</td>\n",
       "      <td>0.363277</td>\n",
       "      <td>-0.521809</td>\n",
       "      <td>1</td>\n",
       "    </tr>\n",
       "    <tr>\n",
       "      <th>1988</th>\n",
       "      <td>-1.343847</td>\n",
       "      <td>0.588080</td>\n",
       "      <td>1.292271</td>\n",
       "      <td>0.727626</td>\n",
       "      <td>0.970339</td>\n",
       "      <td>0.576621</td>\n",
       "      <td>3</td>\n",
       "    </tr>\n",
       "    <tr>\n",
       "      <th>1844</th>\n",
       "      <td>2.470066</td>\n",
       "      <td>-0.361244</td>\n",
       "      <td>0.701421</td>\n",
       "      <td>-1.390248</td>\n",
       "      <td>1.050561</td>\n",
       "      <td>0.594722</td>\n",
       "      <td>4</td>\n",
       "    </tr>\n",
       "    <tr>\n",
       "      <th>278</th>\n",
       "      <td>1.785138</td>\n",
       "      <td>2.362443</td>\n",
       "      <td>-1.053653</td>\n",
       "      <td>-1.458941</td>\n",
       "      <td>0.230629</td>\n",
       "      <td>-1.515487</td>\n",
       "      <td>4</td>\n",
       "    </tr>\n",
       "    <tr>\n",
       "      <th>1623</th>\n",
       "      <td>1.125606</td>\n",
       "      <td>1.769146</td>\n",
       "      <td>2.464309</td>\n",
       "      <td>-0.894201</td>\n",
       "      <td>2.887053</td>\n",
       "      <td>0.897174</td>\n",
       "      <td>4</td>\n",
       "    </tr>\n",
       "    <tr>\n",
       "      <th>...</th>\n",
       "      <td>...</td>\n",
       "      <td>...</td>\n",
       "      <td>...</td>\n",
       "      <td>...</td>\n",
       "      <td>...</td>\n",
       "      <td>...</td>\n",
       "      <td>...</td>\n",
       "    </tr>\n",
       "    <tr>\n",
       "      <th>1033</th>\n",
       "      <td>-0.892006</td>\n",
       "      <td>1.439997</td>\n",
       "      <td>-0.818899</td>\n",
       "      <td>-1.757583</td>\n",
       "      <td>0.395728</td>\n",
       "      <td>-1.912480</td>\n",
       "      <td>0</td>\n",
       "    </tr>\n",
       "    <tr>\n",
       "      <th>1731</th>\n",
       "      <td>-1.166307</td>\n",
       "      <td>0.396431</td>\n",
       "      <td>1.100572</td>\n",
       "      <td>0.785409</td>\n",
       "      <td>0.732409</td>\n",
       "      <td>0.586927</td>\n",
       "      <td>3</td>\n",
       "    </tr>\n",
       "    <tr>\n",
       "      <th>763</th>\n",
       "      <td>2.122564</td>\n",
       "      <td>2.602948</td>\n",
       "      <td>0.550566</td>\n",
       "      <td>-0.053792</td>\n",
       "      <td>1.066368</td>\n",
       "      <td>0.080172</td>\n",
       "      <td>2</td>\n",
       "    </tr>\n",
       "    <tr>\n",
       "      <th>835</th>\n",
       "      <td>-0.603296</td>\n",
       "      <td>-1.351841</td>\n",
       "      <td>-1.922849</td>\n",
       "      <td>1.251309</td>\n",
       "      <td>-2.484721</td>\n",
       "      <td>-0.403714</td>\n",
       "      <td>1</td>\n",
       "    </tr>\n",
       "    <tr>\n",
       "      <th>1653</th>\n",
       "      <td>1.085693</td>\n",
       "      <td>0.195040</td>\n",
       "      <td>0.071847</td>\n",
       "      <td>-0.583761</td>\n",
       "      <td>0.330876</td>\n",
       "      <td>0.020432</td>\n",
       "      <td>4</td>\n",
       "    </tr>\n",
       "  </tbody>\n",
       "</table>\n",
       "<p>1599 rows × 7 columns</p>\n",
       "</div>"
      ],
      "text/plain": [
       "      feature1  feature2  feature3  feature4  feature5  feature6  target\n",
       "1759 -1.056559 -0.818858  0.027747 -1.213826  0.363277 -0.521809       1\n",
       "1988 -1.343847  0.588080  1.292271  0.727626  0.970339  0.576621       3\n",
       "1844  2.470066 -0.361244  0.701421 -1.390248  1.050561  0.594722       4\n",
       "278   1.785138  2.362443 -1.053653 -1.458941  0.230629 -1.515487       4\n",
       "1623  1.125606  1.769146  2.464309 -0.894201  2.887053  0.897174       4\n",
       "...        ...       ...       ...       ...       ...       ...     ...\n",
       "1033 -0.892006  1.439997 -0.818899 -1.757583  0.395728 -1.912480       0\n",
       "1731 -1.166307  0.396431  1.100572  0.785409  0.732409  0.586927       3\n",
       "763   2.122564  2.602948  0.550566 -0.053792  1.066368  0.080172       2\n",
       "835  -0.603296 -1.351841 -1.922849  1.251309 -2.484721 -0.403714       1\n",
       "1653  1.085693  0.195040  0.071847 -0.583761  0.330876  0.020432       4\n",
       "\n",
       "[1599 rows x 7 columns]"
      ]
     },
     "execution_count": 70,
     "metadata": {},
     "output_type": "execute_result"
    }
   ],
   "source": [
    "dataTrain"
   ]
  },
  {
   "cell_type": "code",
   "execution_count": 69,
   "id": "28a66809-cdef-4edd-bef9-3d33541db309",
   "metadata": {},
   "outputs": [
    {
     "data": {
      "text/plain": [
       "1759    1\n",
       "1988    3\n",
       "1844    4\n",
       "278     4\n",
       "1623    4\n",
       "       ..\n",
       "1033    0\n",
       "1731    3\n",
       "763     2\n",
       "835     1\n",
       "1653    4\n",
       "Name: target, Length: 1599, dtype: int64"
      ]
     },
     "execution_count": 69,
     "metadata": {},
     "output_type": "execute_result"
    }
   ],
   "source": [
    "targetTrain"
   ]
  },
  {
   "cell_type": "code",
   "execution_count": 68,
   "id": "62d9d5b9-4306-4f15-a3cf-a24289d23489",
   "metadata": {},
   "outputs": [
    {
     "data": {
      "text/html": [
       "<div>\n",
       "<style scoped>\n",
       "    .dataframe tbody tr th:only-of-type {\n",
       "        vertical-align: middle;\n",
       "    }\n",
       "\n",
       "    .dataframe tbody tr th {\n",
       "        vertical-align: top;\n",
       "    }\n",
       "\n",
       "    .dataframe thead th {\n",
       "        text-align: right;\n",
       "    }\n",
       "</style>\n",
       "<table border=\"1\" class=\"dataframe\">\n",
       "  <thead>\n",
       "    <tr style=\"text-align: right;\">\n",
       "      <th></th>\n",
       "      <th>feature1</th>\n",
       "      <th>feature2</th>\n",
       "      <th>feature3</th>\n",
       "      <th>feature4</th>\n",
       "      <th>feature5</th>\n",
       "      <th>feature6</th>\n",
       "      <th>target</th>\n",
       "    </tr>\n",
       "  </thead>\n",
       "  <tbody>\n",
       "    <tr>\n",
       "      <th>1968</th>\n",
       "      <td>-1.209888</td>\n",
       "      <td>-1.809712</td>\n",
       "      <td>-1.680704</td>\n",
       "      <td>0.388120</td>\n",
       "      <td>-2.009017</td>\n",
       "      <td>-0.637912</td>\n",
       "      <td>0</td>\n",
       "    </tr>\n",
       "    <tr>\n",
       "      <th>379</th>\n",
       "      <td>1.158074</td>\n",
       "      <td>-1.357518</td>\n",
       "      <td>-0.947393</td>\n",
       "      <td>1.132707</td>\n",
       "      <td>-1.635334</td>\n",
       "      <td>0.605275</td>\n",
       "      <td>2</td>\n",
       "    </tr>\n",
       "    <tr>\n",
       "      <th>689</th>\n",
       "      <td>-1.516371</td>\n",
       "      <td>0.720425</td>\n",
       "      <td>1.264246</td>\n",
       "      <td>0.624063</td>\n",
       "      <td>1.024754</td>\n",
       "      <td>0.430927</td>\n",
       "      <td>2</td>\n",
       "    </tr>\n",
       "    <tr>\n",
       "      <th>935</th>\n",
       "      <td>-1.289812</td>\n",
       "      <td>1.254919</td>\n",
       "      <td>1.011090</td>\n",
       "      <td>2.145903</td>\n",
       "      <td>0.288376</td>\n",
       "      <td>0.814657</td>\n",
       "      <td>3</td>\n",
       "    </tr>\n",
       "    <tr>\n",
       "      <th>252</th>\n",
       "      <td>-3.105564</td>\n",
       "      <td>1.776125</td>\n",
       "      <td>0.222635</td>\n",
       "      <td>-2.023774</td>\n",
       "      <td>1.527720</td>\n",
       "      <td>-2.059115</td>\n",
       "      <td>1</td>\n",
       "    </tr>\n",
       "    <tr>\n",
       "      <th>...</th>\n",
       "      <td>...</td>\n",
       "      <td>...</td>\n",
       "      <td>...</td>\n",
       "      <td>...</td>\n",
       "      <td>...</td>\n",
       "      <td>...</td>\n",
       "      <td>...</td>\n",
       "    </tr>\n",
       "    <tr>\n",
       "      <th>1769</th>\n",
       "      <td>-0.587955</td>\n",
       "      <td>-0.254792</td>\n",
       "      <td>0.225747</td>\n",
       "      <td>1.404253</td>\n",
       "      <td>-0.445252</td>\n",
       "      <td>0.656244</td>\n",
       "      <td>3</td>\n",
       "    </tr>\n",
       "    <tr>\n",
       "      <th>1845</th>\n",
       "      <td>1.000018</td>\n",
       "      <td>0.798971</td>\n",
       "      <td>1.756646</td>\n",
       "      <td>-2.339488</td>\n",
       "      <td>2.661123</td>\n",
       "      <td>0.111999</td>\n",
       "      <td>2</td>\n",
       "    </tr>\n",
       "    <tr>\n",
       "      <th>811</th>\n",
       "      <td>-1.205278</td>\n",
       "      <td>2.365292</td>\n",
       "      <td>0.985517</td>\n",
       "      <td>0.338440</td>\n",
       "      <td>1.287983</td>\n",
       "      <td>-0.277594</td>\n",
       "      <td>3</td>\n",
       "    </tr>\n",
       "    <tr>\n",
       "      <th>1319</th>\n",
       "      <td>-1.443320</td>\n",
       "      <td>-0.584030</td>\n",
       "      <td>-1.309617</td>\n",
       "      <td>-0.698016</td>\n",
       "      <td>-0.938580</td>\n",
       "      <td>-1.298763</td>\n",
       "      <td>1</td>\n",
       "    </tr>\n",
       "    <tr>\n",
       "      <th>1680</th>\n",
       "      <td>0.871990</td>\n",
       "      <td>-2.446511</td>\n",
       "      <td>-1.308365</td>\n",
       "      <td>1.563433</td>\n",
       "      <td>-2.378037</td>\n",
       "      <td>0.819695</td>\n",
       "      <td>2</td>\n",
       "    </tr>\n",
       "  </tbody>\n",
       "</table>\n",
       "<p>534 rows × 7 columns</p>\n",
       "</div>"
      ],
      "text/plain": [
       "      feature1  feature2  feature3  feature4  feature5  feature6  target\n",
       "1968 -1.209888 -1.809712 -1.680704  0.388120 -2.009017 -0.637912       0\n",
       "379   1.158074 -1.357518 -0.947393  1.132707 -1.635334  0.605275       2\n",
       "689  -1.516371  0.720425  1.264246  0.624063  1.024754  0.430927       2\n",
       "935  -1.289812  1.254919  1.011090  2.145903  0.288376  0.814657       3\n",
       "252  -3.105564  1.776125  0.222635 -2.023774  1.527720 -2.059115       1\n",
       "...        ...       ...       ...       ...       ...       ...     ...\n",
       "1769 -0.587955 -0.254792  0.225747  1.404253 -0.445252  0.656244       3\n",
       "1845  1.000018  0.798971  1.756646 -2.339488  2.661123  0.111999       2\n",
       "811  -1.205278  2.365292  0.985517  0.338440  1.287983 -0.277594       3\n",
       "1319 -1.443320 -0.584030 -1.309617 -0.698016 -0.938580 -1.298763       1\n",
       "1680  0.871990 -2.446511 -1.308365  1.563433 -2.378037  0.819695       2\n",
       "\n",
       "[534 rows x 7 columns]"
      ]
     },
     "execution_count": 68,
     "metadata": {},
     "output_type": "execute_result"
    }
   ],
   "source": [
    "data_test1"
   ]
  },
  {
   "cell_type": "code",
   "execution_count": 1,
   "id": "b0544cf0-1c48-447e-a266-5ccac05b4830",
   "metadata": {},
   "outputs": [
    {
     "name": "stdout",
     "output_type": "stream",
     "text": [
      "Requirement already up-to-date: scikit-learn in /Users/Kike/opt/anaconda3/envs/Entorno_Virtual_BT_Data_Science/lib/python3.8/site-packages (1.0.1)\n",
      "Requirement already satisfied, skipping upgrade: joblib>=0.11 in /Users/Kike/opt/anaconda3/envs/Entorno_Virtual_BT_Data_Science/lib/python3.8/site-packages (from scikit-learn) (1.0.1)\n",
      "Requirement already satisfied, skipping upgrade: scipy>=1.1.0 in /Users/Kike/opt/anaconda3/envs/Entorno_Virtual_BT_Data_Science/lib/python3.8/site-packages (from scikit-learn) (1.6.2)\n",
      "Requirement already satisfied, skipping upgrade: numpy>=1.14.6 in /Users/Kike/opt/anaconda3/envs/Entorno_Virtual_BT_Data_Science/lib/python3.8/site-packages (from scikit-learn) (1.19.2)\n",
      "Requirement already satisfied, skipping upgrade: threadpoolctl>=2.0.0 in /Users/Kike/opt/anaconda3/envs/Entorno_Virtual_BT_Data_Science/lib/python3.8/site-packages (from scikit-learn) (3.0.0)\n"
     ]
    }
   ],
   "source": [
    "! pip install -U scikit-learn"
   ]
  },
  {
   "cell_type": "code",
   "execution_count": null,
   "id": "1eba7cca-aad0-4219-b1dd-16389657fb86",
   "metadata": {},
   "outputs": [],
   "source": []
  }
 ],
 "metadata": {
  "kernelspec": {
   "display_name": "Python 3 (ipykernel)",
   "language": "python",
   "name": "python3"
  },
  "language_info": {
   "codemirror_mode": {
    "name": "ipython",
    "version": 3
   },
   "file_extension": ".py",
   "mimetype": "text/x-python",
   "name": "python",
   "nbconvert_exporter": "python",
   "pygments_lexer": "ipython3",
   "version": "3.8.11"
  }
 },
 "nbformat": 4,
 "nbformat_minor": 5
}
